{
 "cells": [
  {
   "cell_type": "code",
   "execution_count": 1,
   "metadata": {},
   "outputs": [],
   "source": [
    "import pandas as pd\n",
    "import plotly.express as px"
   ]
  },
  {
   "cell_type": "code",
   "execution_count": 2,
   "metadata": {},
   "outputs": [],
   "source": [
    "df = pd.read_csv(\"\") # Update the path to your CSV file "
   ]
  },
  {
   "cell_type": "markdown",
   "metadata": {},
   "source": [
    "### Complete count of detection"
   ]
  },
  {
   "cell_type": "code",
   "execution_count": 3,
   "metadata": {},
   "outputs": [],
   "source": [
    "df.index = pd.to_datetime(df.date_recorded_local)"
   ]
  },
  {
   "cell_type": "code",
   "execution_count": null,
   "metadata": {},
   "outputs": [],
   "source": [
    "import pandas as pd\n",
    "import plotly.express as px\n",
    "\n",
    "\n",
    "# Convert the datetime column to a datetime object\n",
    "df['date_recorded_local'] = pd.to_datetime(df['date_recorded_local'])\n",
    "\n",
    "# Resample the data (adjust the rule as needed)\n",
    "df_resampled = df.resample('1D', on='date_recorded_local').size().to_frame(name='count')\n",
    "\n",
    "# Create a Plotly figure\n",
    "fig = px.line(df_resampled, x=df_resampled.index, y='count', title='Count over Time (Sum of all cameras)')\n",
    "fig.show()"
   ]
  },
  {
   "cell_type": "markdown",
   "metadata": {},
   "source": [
    "### Count of Activities detected"
   ]
  },
  {
   "cell_type": "code",
   "execution_count": null,
   "metadata": {},
   "outputs": [],
   "source": [
    "# Count the occurrences of each category\n",
    "category_counts = df['Human_category'].value_counts()\n",
    "\n",
    "# Create a Plotly bar chart\n",
    "fig = px.bar(category_counts, x=category_counts.index, y=category_counts.values,\n",
    "            labels={'x': 'Activity', 'y': 'Count'}, title='Count of Activities')\n",
    "fig.show()\n"
   ]
  },
  {
   "cell_type": "markdown",
   "metadata": {},
   "source": [
    "### Visualize daily count for each camera tocheck different uses along the year\n",
    "\n",
    "To change to monthly just edit the resample  to (\"ME\")"
   ]
  },
  {
   "cell_type": "code",
   "execution_count": null,
   "metadata": {},
   "outputs": [],
   "source": [
    "import matplotlib.pyplot as plt\n",
    "import pandas as pd\n",
    "import math\n",
    "import matplotlib.dates as mdates\n",
    "\n",
    "# Example DataFrame setup (replace this with your actual data)\n",
    "# df = pd.read_csv('your_data.csv', parse_dates=True, index_col='datetime_column')\n",
    "\n",
    "# Get the unique location_ids\n",
    "locations = df['location_id'].unique()\n",
    "\n",
    "# Determine the number of rows needed (2 columns layout)\n",
    "num_locations = len(locations)\n",
    "num_rows = math.ceil(num_locations / 2)\n",
    "\n",
    "# Create a figure and axes with 2 columns and as many rows as needed\n",
    "fig, axes = plt.subplots(nrows=num_rows, ncols=2, figsize=(14, num_rows * 4), sharex=False)\n",
    "\n",
    "# Flatten the axes array for easy iteration\n",
    "axes = axes.flatten()\n",
    "\n",
    "# Determine the common x-axis limits\n",
    "start_date = df.index.min()\n",
    "end_date = df.index.max()\n",
    "\n",
    "# Loop over each location and plot its data in the corresponding subplot\n",
    "for i, location in enumerate(locations):\n",
    "    # Filter data for the current location\n",
    "    location_data = df[df['location_id'] == location]\n",
    "    \n",
    "    # Resample and count detections by month\n",
    "    resampled_data = location_data.resample('D').size()\n",
    "    \n",
    "    # Plot the data on the i-th subplot\n",
    "    axes[i].plot(resampled_data.index, resampled_data.values, marker='o', linestyle='-', color='cornflowerblue', markersize=3)\n",
    "    \n",
    "\n",
    "    \n",
    "    # Set plot titles and labels\n",
    "    axes[i].set_title(f'Location ID: {location}')\n",
    "    axes[i].set_ylabel('Number of Detections')\n",
    "    axes[i].grid(True)\n",
    "    \n",
    "    # Set fixed x-axis limits and format the x-axis to show month names\n",
    "    axes[i].set_xlim(start_date, end_date)\n",
    "    axes[i].xaxis.set_major_formatter(mdates.DateFormatter('%b %Y'))\n",
    "    axes[i].xaxis.set_major_locator(mdates.MonthLocator())\n",
    "\n",
    "    # Rotate x-axis labels for better readability\n",
    "    plt.setp(axes[i].get_xticklabels(), rotation=45, ha=\"right\")\n",
    "\n",
    "# Adjust spacing between subplots\n",
    "plt.subplots_adjust(hspace=0.4, wspace=0.3)\n",
    "\n",
    "# Set common title\n",
    "fig.suptitle('Detections Over Time by Location', fontsize=16, va=\"top\")\n",
    "\n",
    "# Remove empty subplots (if any)\n",
    "for j in range(i + 1, len(axes)):\n",
    "    fig.delaxes(axes[j])\n",
    "\n",
    "plt.tight_layout(rect=[0, 0.03, 1, 0.95])\n",
    "\n",
    "plt.show()\n"
   ]
  },
  {
   "cell_type": "markdown",
   "metadata": {},
   "source": [
    "### Total count over the year for each location to incorporate to QGIS"
   ]
  },
  {
   "cell_type": "code",
   "execution_count": null,
   "metadata": {},
   "outputs": [],
   "source": [
    "import geopandas as gpd\n",
    "\n",
    "#group entries for each location and add a column for total count of visitors\n",
    "\n",
    "result = df.groupby('location_id').agg(\n",
    "    X=('X', 'first'),  \n",
    "    Y=('Y', 'first'),  \n",
    "    count=('location_id', 'size')\n",
    ").reset_index()\n",
    "\n",
    "#transform into a geopandas df to then save it as shp file to quickly open it on QGIS\n",
    "gdf = gpd.GeoDataFrame(result, geometry=gpd.points_from_xy(result.X, result.Y))\n",
    "\n",
    "gdf.set_crs(epsg=4326, inplace=True)\n",
    "\n",
    "gdf.to_file(\"\") # Update the path to your shapefile\n",
    "\n",
    "# The result was manually incorporated to \"all_geodata_bf.qgz\" and uploaded to data folder on drive\n"
   ]
  }
 ],
 "metadata": {
  "kernelspec": {
   "display_name": "bf_dssdgx",
   "language": "python",
   "name": "python3"
  },
  "language_info": {
   "codemirror_mode": {
    "name": "ipython",
    "version": 3
   },
   "file_extension": ".py",
   "mimetype": "text/x-python",
   "name": "python",
   "nbconvert_exporter": "python",
   "pygments_lexer": "ipython3",
   "version": "3.10.11"
  }
 },
 "nbformat": 4,
 "nbformat_minor": 2
}
