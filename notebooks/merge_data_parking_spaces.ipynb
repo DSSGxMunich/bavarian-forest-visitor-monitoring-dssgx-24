{
 "cells": [
  {
   "cell_type": "code",
   "execution_count": 42,
   "metadata": {},
   "outputs": [],
   "source": [
    "import pandas as pd\n",
    "import os"
   ]
  },
  {
   "cell_type": "code",
   "execution_count": 43,
   "metadata": {},
   "outputs": [],
   "source": [
    "parking_sensors = [\"parkplatz-graupsaege-1\",\n",
    "    \"parkplatz-fredenbruecke-1\",\n",
    "    \"p-r-spiegelau-1\",\n",
    "    \"skiwanderzentrum-zwieslerwaldhaus-2\",\n",
    "    \"parkplatz-zwieslerwaldhaus-1\",\n",
    "    \"parkplatz-zwieslerwaldhaus-nord-1\",\n",
    "    \"parkplatz-nationalparkzentrum-falkenstein-2\",\n",
    "    \"scheidt-bachmann-parkplatz-1\",\n",
    "    \"parkplatz-nationalparkzentrum-lusen-p2\",\n",
    "    \"parkplatz-waldhaeuser-kirche-1\",\n",
    "    \"parkplatz-waldhaeuser-ausblick-1\",\n",
    "    \"parkplatz-skisportzentrum-finsterau-1\"] "
   ]
  },
  {
   "cell_type": "code",
   "execution_count": 44,
   "metadata": {},
   "outputs": [],
   "source": [
    "def merge_csv_files(file_paths, time_column):\n",
    "    # Initialize merged_df with the first file\n",
    "    merged_df = pd.read_csv(file_paths[0])\n",
    "\n",
    "    # Normalize column names of the first DataFrame\n",
    "    merged_df.columns = merged_df.columns.str.strip().str.lower()\n",
    "\n",
    "    # Ensure the time column is normalized\n",
    "    time_column = time_column.strip().lower()\n",
    "\n",
    "    \n",
    "\n",
    "    # Iterate over each file path\n",
    "    for file_path in file_paths[1:]:\n",
    "        # Read the CSV file into a DataFrame\n",
    "        df = pd.read_csv(file_path)\n",
    "        \n",
    "        # Normalize column names by stripping whitespace and converting to lowercase\n",
    "        df.columns = df.columns.str.strip().str.lower()\n",
    "\n",
    "        # Check if the time column exists\n",
    "        if time_column not in df.columns:\n",
    "            raise KeyError(f\"Column '{time_column}' not found in file {file_path}\")\n",
    "\n",
    "       # Merge the current DataFrame with the merged DataFrame on the normalized time column\n",
    "        merged_df = merged_df.merge(df, on=time_column, how='outer')\n",
    "\n",
    "    # Return the merged DataFrame\n",
    "    return merged_df"
   ]
  },
  {
   "cell_type": "code",
   "execution_count": 45,
   "metadata": {},
   "outputs": [],
   "source": [
    "parking_data_folders = [\"parking_spaces_occupancy\",\"parking_spaces_occupancy_rate\"]\n",
    "merged_parking_path = \"./outputs/merged_parking_data/\"\n",
    "\n",
    "# make the merged_parking_data directory if doesn't exist\n",
    "if not os.path.exists(merged_parking_path):\n",
    "    os.makedirs(merged_parking_path)\n",
    "for sensor in parking_sensors:\n",
    "    file_paths = [f\"./outputs/parking_spaces_occupancy/{sensor}.csv\", f\"./outputs/parking_spaces_occupancy_rate/{sensor}.csv\", f\"./outputs/parking_spaces_capacity/{sensor}.csv\"]\n",
    "    merged_df = merge_csv_files(file_paths, \"time\")\n",
    "    merged_df.to_csv(f\"{merged_parking_path}{sensor}.csv\",index=False)"
   ]
  }
 ],
 "metadata": {
  "kernelspec": {
   "display_name": "bf-dssgx",
   "language": "python",
   "name": "python3"
  },
  "language_info": {
   "codemirror_mode": {
    "name": "ipython",
    "version": 3
   },
   "file_extension": ".py",
   "mimetype": "text/x-python",
   "name": "python",
   "nbconvert_exporter": "python",
   "pygments_lexer": "ipython3",
   "version": "3.10.11"
  }
 },
 "nbformat": 4,
 "nbformat_minor": 2
}
