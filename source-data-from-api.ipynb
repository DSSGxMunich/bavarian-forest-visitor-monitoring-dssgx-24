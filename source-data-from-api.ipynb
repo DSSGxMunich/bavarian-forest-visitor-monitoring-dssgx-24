{
 "cells": [
  {
   "cell_type": "code",
   "execution_count": 1,
   "metadata": {},
   "outputs": [],
   "source": [
    "import pandas as pd\n",
    "import requests\n",
    "import json\n",
    "import os"
   ]
  },
  {
   "cell_type": "markdown",
   "metadata": {},
   "source": [
    "# Authenticate with Bayern Cloud"
   ]
  },
  {
   "cell_type": "code",
   "execution_count": 2,
   "metadata": {},
   "outputs": [],
   "source": [
    "# Load Bayern Cloud API key from environment variables\n",
    "BAYERN_CLOUD_API_KEY = os.getenv('BAYERN_CLOUD_API_KEY')"
   ]
  },
  {
   "cell_type": "markdown",
   "metadata": {},
   "source": [
    "# Load occupancy data"
   ]
  },
  {
   "cell_type": "markdown",
   "metadata": {},
   "source": [
    "## Real-time occupancy data"
   ]
  },
  {
   "cell_type": "code",
   "execution_count": 3,
   "metadata": {},
   "outputs": [],
   "source": [
    "def load_and_save_occupancy_data_for_location(\n",
    "    location_slug: str,\n",
    "    save_file_path: str = 'outputs'\n",
    "):\n",
    "    API_endpoint = f'https://data.bayerncloud.digital/api/v4/endpoints/list_occupancy/{location_slug}'\n",
    "\n",
    "    request_params = {\n",
    "        'token': BAYERN_CLOUD_API_KEY\n",
    "    }\n",
    "\n",
    "    response = requests.get(API_endpoint, params=request_params)\n",
    "    response_json = response.json()\n",
    "\n",
    "    os.makedirs(save_file_path, exist_ok=True)\n",
    "\n",
    "    # Save response to JSON file\n",
    "    with open(f'{save_file_path}/occupancy_data_{location_slug}.json', 'w') as outfile:\n",
    "        json.dump(response_json, outfile)\n",
    "\n",
    "    return\n"
   ]
  },
  {
   "cell_type": "code",
   "execution_count": 4,
   "metadata": {},
   "outputs": [],
   "source": [
    "location_slug = \"parkplatz-graupsaege-1\"\n",
    "load_and_save_occupancy_data_for_location(location_slug)"
   ]
  },
  {
   "cell_type": "markdown",
   "metadata": {},
   "source": [
    "## Historical occupancy data"
   ]
  },
  {
   "cell_type": "code",
   "execution_count": 30,
   "metadata": {},
   "outputs": [],
   "source": [
    "def get_historical_occupancy_data_for_location(\n",
    "    location_id: str,\n",
    "    save_file_path: str = 'outputs'\n",
    "):\n",
    "    API_endpoint = f'https://data.bayerncloud.digital/api/v4/things/{location_id}/dcls_occupancy'\n",
    "\n",
    "    request_params = {\n",
    "        'token': BAYERN_CLOUD_API_KEY\n",
    "    }\n",
    "\n",
    "    response = requests.get(API_endpoint, params=request_params)\n",
    "    response_json = response.json()\n",
    "\n",
    "    # Convert response to Pandas DataFrame and preprocess it\n",
    "    historical_occupancy_df = pd.DataFrame(response_json['data'], columns=['time', 'occupancy'])\n",
    "    historical_occupancy_df[\"time\"] = pd.to_datetime(historical_occupancy_df[\"time\"])\n",
    "    historical_occupancy_df.set_index(\"time\", inplace=True)\n",
    "\n",
    "    # Save DF as pickle file\n",
    "    os.makedirs(save_file_path, exist_ok=True)\n",
    "    historical_occupancy_df.to_csv(f'{save_file_path}/occupancy_data_{location_id}.csv')\n",
    "\n",
    "    return"
   ]
  },
  {
   "cell_type": "code",
   "execution_count": 31,
   "metadata": {},
   "outputs": [],
   "source": [
    "visitor_counters = {\n",
    "    \"tfg-lusen-1\": \"7453d98e-8ba7-4dfc-8054-a55c685c9e12\",\n",
    "    \"tfg-lusen-2\": \"11c69a64-8600-47d9-93a8-825e655d50f5\",\n",
    "    \"tfg-lusen-3\": \"0dce6a7a-e256-46b9-86cb-1189de9387c7\",\n",
    "    \"tfg-falkenstein-1\": \"6d666ec4-96e3-4506-ac08-b8953c98b569\",\n",
    "    \"tfg-falkenstein-2\": \"2105b493-02a8-4ae9-a6e4-bce6c866eca6\",\n",
    "}"
   ]
  },
  {
   "cell_type": "code",
   "execution_count": 32,
   "metadata": {},
   "outputs": [
    {
     "name": "stdout",
     "output_type": "stream",
     "text": [
      "Loading and saving historical occupancy data for Location ID: 7453d98e-8ba7-4dfc-8054-a55c685c9e12\n",
      "Loading and saving historical occupancy data for Location ID: 11c69a64-8600-47d9-93a8-825e655d50f5\n",
      "Loading and saving historical occupancy data for Location ID: 0dce6a7a-e256-46b9-86cb-1189de9387c7\n",
      "Loading and saving historical occupancy data for Location ID: 6d666ec4-96e3-4506-ac08-b8953c98b569\n",
      "Loading and saving historical occupancy data for Location ID: 2105b493-02a8-4ae9-a6e4-bce6c866eca6\n"
     ]
    }
   ],
   "source": [
    "for value in visitor_counters.values():\n",
    "    print(f\"Loading and saving historical occupancy data for Location ID: {value}\")\n",
    "    get_historical_occupancy_data_for_location(location_id=value)"
   ]
  }
 ],
 "metadata": {
  "kernelspec": {
   "display_name": "bavarian-forest-data-sourcing",
   "language": "python",
   "name": "python3"
  },
  "language_info": {
   "codemirror_mode": {
    "name": "ipython",
    "version": 3
   },
   "file_extension": ".py",
   "mimetype": "text/x-python",
   "name": "python",
   "nbconvert_exporter": "python",
   "pygments_lexer": "ipython3",
   "version": "3.10.13"
  }
 },
 "nbformat": 4,
 "nbformat_minor": 2
}
