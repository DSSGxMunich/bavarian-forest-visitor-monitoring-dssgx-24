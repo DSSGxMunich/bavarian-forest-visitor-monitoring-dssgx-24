{
 "cells": [
  {
   "cell_type": "code",
   "execution_count": 7,
   "metadata": {},
   "outputs": [],
   "source": [
    "import pandas as pd\n",
    "import requests\n",
    "import json\n",
    "import os"
   ]
  },
  {
   "cell_type": "markdown",
   "metadata": {},
   "source": [
    "# Authenticate with Bayern Cloud"
   ]
  },
  {
   "cell_type": "code",
   "execution_count": 3,
   "metadata": {},
   "outputs": [],
   "source": [
    "# Load Bayern Cloud API key from environment variables\n",
    "BAYERN_CLOUD_API_KEY = os.getenv('BAYERN_CLOUD_API_KEY')"
   ]
  },
  {
   "cell_type": "markdown",
   "metadata": {},
   "source": [
    "# Load occupancy data"
   ]
  },
  {
   "cell_type": "code",
   "execution_count": 10,
   "metadata": {},
   "outputs": [],
   "source": [
    "def load_and_save_occupancy_data_for_location(\n",
    "    location_slug: str,\n",
    "    save_file_path: str = 'outputs'\n",
    "):\n",
    "    API_endpoint = f'https://data.bayerncloud.digital/api/v4/endpoints/list_occupancy/{location_slug}'\n",
    "\n",
    "    request_params = {\n",
    "        'token': BAYERN_CLOUD_API_KEY\n",
    "    }\n",
    "\n",
    "    response = requests.get(API_endpoint, params=request_params)\n",
    "    response_json = response.json()\n",
    "\n",
    "    os.makedirs(save_file_path, exist_ok=True)\n",
    "\n",
    "    # Save response to JSON file\n",
    "    with open(f'{save_file_path}/occupancy_data_{location_slug}.json', 'w') as outfile:\n",
    "        json.dump(response_json, outfile)\n",
    "\n",
    "    return\n"
   ]
  },
  {
   "cell_type": "code",
   "execution_count": 11,
   "metadata": {},
   "outputs": [],
   "source": [
    "location_slug = \"parkplatz-graupsaege-1\"\n",
    "load_and_save_occupancy_data_for_location(location_slug)"
   ]
  }
 ],
 "metadata": {
  "kernelspec": {
   "display_name": "bavarian-forest-data-sourcing",
   "language": "python",
   "name": "python3"
  },
  "language_info": {
   "codemirror_mode": {
    "name": "ipython",
    "version": 3
   },
   "file_extension": ".py",
   "mimetype": "text/x-python",
   "name": "python",
   "nbconvert_exporter": "python",
   "pygments_lexer": "ipython3",
   "version": "3.10.13"
  }
 },
 "nbformat": 4,
 "nbformat_minor": 2
}
