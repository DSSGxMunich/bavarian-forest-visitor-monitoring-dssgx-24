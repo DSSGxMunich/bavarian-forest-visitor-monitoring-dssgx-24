{
 "cells": [
  {
   "cell_type": "code",
   "execution_count": null,
   "metadata": {},
   "outputs": [],
   "source": [
    "import pandas as pd\n",
    "from pycaret.time_series import *\n",
    "import matplotlib.pyplot as plt"
   ]
  },
  {
   "cell_type": "code",
   "execution_count": null,
   "metadata": {},
   "outputs": [],
   "source": [
    "df = pd.read_csv('data/cleaned_data/joined_sensor_weather_visitorcenter_2016-2024.csv', parse_dates=['Time'])\n"
   ]
  },
  {
   "cell_type": "code",
   "execution_count": null,
   "metadata": {},
   "outputs": [],
   "source": [
    "# Specify the columns to use\n",
    "columns_to_use = [\n",
    "    'Time',\n",
    "    'traffic_norm',\n",
    "    'traffic_abs',\n",
    "    'Temperature (°C)',\n",
    "    'Relative Humidity (%)',\n",
    "    'Precipitation (mm)',\n",
    "    'Wind Speed (km/h)',\n",
    "    'Sunshine Duration (min)',\n",
    "    'Monat',\n",
    "    'Wochentag',\n",
    "    'Wochenende',\n",
    "    'Jahreszeit',\n",
    "    'Laubfärbung',\n",
    "    'Feiertag_Bayern',\n",
    "    'Feiertag_CZ',\n",
    "    'HEH_geoeffnet',\n",
    "    'HZW_geoeffnet',\n",
    "    'WGM_geoeffnet',\n",
    "    'Lusenschutzhaus_geoeffnet',\n",
    "    'Racheldiensthuette_geoeffnet',\n",
    "    'Falkensteinschutzhaus_geoeffnet',\n",
    "    'Schwellhaeusl_geoeffnet',\n",
    "    'Schulferien_Bayern',\n",
    "    'Schulferien_CZ',\n",
    "    'Jahr'\n",
    "]\n"
   ]
  },
  {
   "cell_type": "code",
   "execution_count": null,
   "metadata": {},
   "outputs": [],
   "source": [
    "# Filter the dataframe to only include the specified columns\n",
    "df = df[columns_to_use]\n",
    "\n",
    "# Display the first few rows to ensure the data is loaded correctly\n",
    "df.head()"
   ]
  },
  {
   "cell_type": "code",
   "execution_count": null,
   "metadata": {},
   "outputs": [],
   "source": [
    "# Specify the data types\n",
    "dtype_dict = {\n",
    "    'Time': 'datetime64[ns]',\n",
    "    'traffic_norm': 'float64',\n",
    "    'traffic_abs': 'float64',\n",
    "    'Temperature (°C)': 'float64',\n",
    "    'Relative Humidity (%)': 'float64',\n",
    "    'Precipitation (mm)': 'float64',\n",
    "    'Wind Speed (km/h)': 'float64',\n",
    "    'Sunshine Duration (min)': 'float64',\n",
    "    'Monat': 'float64',\n",
    "    'Wochentag': 'category',\n",
    "    'Wochenende': 'category',\n",
    "    'Jahreszeit': 'category',\n",
    "    'Laubfärbung': 'category',\n",
    "    'Feiertag_Bayern': 'category',\n",
    "    'Feiertag_CZ': 'category',\n",
    "    'HEH_geoeffnet': 'category',\n",
    "    'HZW_geoeffnet': 'category',\n",
    "    'WGM_geoeffnet': 'category',\n",
    "    'Lusenschutzhaus_geoeffnet': 'category',\n",
    "    'Racheldiensthuette_geoeffnet': 'category',\n",
    "    'Falkensteinschutzhaus_geoeffnet': 'category',\n",
    "    'Schwellhaeusl_geoeffnet': 'category',\n",
    "    'Schulferien_Bayern': 'category',\n",
    "    'Schulferien_CZ': 'category',\n",
    "    'Jahr': 'float64'\n",
    "}\n",
    "\n",
    "# Apply the data types to the dataframe\n",
    "df = df.astype(dtype_dict)\n",
    "\n",
    "# Set 'Time' as the index\n",
    "df.set_index('Time', inplace=True)\n",
    "\n"
   ]
  },
  {
   "cell_type": "code",
   "execution_count": null,
   "metadata": {},
   "outputs": [],
   "source": [
    "# Slice the data from January 1, 2023, to August 19, 2024\n",
    "df = df.loc['2023-01-01':'2024-08-19']\n",
    "# Display the info to check data types\n",
    "df.info()"
   ]
  },
  {
   "cell_type": "code",
   "execution_count": null,
   "metadata": {},
   "outputs": [],
   "source": [
    "df"
   ]
  },
  {
   "cell_type": "code",
   "execution_count": null,
   "metadata": {},
   "outputs": [],
   "source": [
    "# Check for missing values in the dataset\n",
    "missing_values = df.isnull().sum()\n",
    "print(missing_values[missing_values > 0])"
   ]
  },
  {
   "cell_type": "code",
   "execution_count": null,
   "metadata": {},
   "outputs": [],
   "source": [
    "df_cleaned = df.drop(columns=['traffic_norm'])\n",
    "df_cleaned = df_cleaned.asfreq('H')  # Set the frequency explicitly\n",
    "df_cleaned.index\n"
   ]
  },
  {
   "cell_type": "code",
   "execution_count": null,
   "metadata": {},
   "outputs": [],
   "source": [
    "df_cleaned.iloc[0]"
   ]
  },
  {
   "cell_type": "code",
   "execution_count": null,
   "metadata": {},
   "outputs": [],
   "source": [
    "df_cleaned.columns"
   ]
  },
  {
   "cell_type": "code",
   "execution_count": null,
   "metadata": {},
   "outputs": [],
   "source": [
    "# Define the target variable\n",
    "target = 'traffic_abs'\n",
    "\n",
    "numeric_features =['Temperature (°C)', 'Relative Humidity (%)',\n",
    "       'Precipitation (mm)', 'Wind Speed (km/h)', 'Sunshine Duration (min)']\n",
    "\n",
    "# Initialize the PyCaret setup\n",
    "ts_setup = setup(\n",
    "    data=df_cleaned,  # Use the cleaned data\n",
    "    target=target,\n",
    "    \n",
    "    #index='Time',  # Specify that 'Time' is the index\n",
    "    session_id=42,  # For reproducibility\n",
    "    #seasonal_period='auto',  # Let PyCaret automatically detect the seasonal period\n",
    "    #fold_strategy='timeseries',  # Use time series cross-validation\n",
    "    fold=3,  # Number of folds in time series cross-validation\n",
    "    fh=24 * 14,  # Forecast horizon of 2 weeks (24 hours * 14 days)\n",
    "    verbose=True  # Show detailed logs for debugging\n",
    ")\n",
    "\n",
    "# Compare models and select the best one\n",
    "best_model = compare_models()\n",
    "\n",
    "# Save the best model\n",
    "save_model(best_model, 'best_model_traffic_abs')\n",
    "\n",
    "print(\"Best model for traffic_abs saved.\")"
   ]
  },
  {
   "cell_type": "code",
   "execution_count": null,
   "metadata": {},
   "outputs": [],
   "source": [
    "df.columns"
   ]
  },
  {
   "cell_type": "code",
   "execution_count": null,
   "metadata": {},
   "outputs": [],
   "source": [
    "df[\"Hour\"] = df.index.hour\n",
    "df\n",
    "\n"
   ]
  },
  {
   "cell_type": "code",
   "execution_count": null,
   "metadata": {},
   "outputs": [],
   "source": [
    "from pycaret.regression import *\n",
    "\n",
    "# Define the target variables\n",
    "targets = ['traffic_norm', 'traffic_abs']\n",
    "\n",
    "numeric_features = ['Temperature (°C)',\n",
    "       'Relative Humidity (%)', 'Precipitation (mm)', 'Wind Speed (km/h)',\n",
    "       'Sunshine Duration (min)']\n",
    "catgorical_features =['Hour','Monat', 'Wochentag', 'Wochenende',\n",
    "       'Jahreszeit', 'Laubfärbung', 'Feiertag_Bayern', 'Feiertag_CZ',\n",
    "       'HEH_geoeffnet', 'HZW_geoeffnet', 'WGM_geoeffnet',\n",
    "       'Lusenschutzhaus_geoeffnet', 'Racheldiensthuette_geoeffnet',\n",
    "       'Falkensteinschutzhaus_geoeffnet', 'Schwellhaeusl_geoeffnet',\n",
    "       'Schulferien_Bayern', 'Schulferien_CZ', 'Jahr']\n",
    "\n",
    "for catfeature in catgorical_features:\n",
    "    df[catfeature] = df[catfeature].astype(str)\n",
    "\n",
    "\n",
    "\n",
    "# Loop through each target\n",
    "for target in targets:\n",
    "    print(f\"\\nModeling for target: {target}\\n\")\n",
    "\n",
    "    cols_for_modeling = [target] + numeric_features + catgorical_features\n",
    "    \n",
    "    # Initialize the PyCaret setup\n",
    "    ts_setup = setup(\n",
    "        data=df.dropna(subset=\"traffic_norm\")[cols_for_modeling],\n",
    "        target=target,\n",
    "        train_size=0.9,\n",
    "        session_id=42,  # For reproducibility\n",
    "       # seasonal_period=24,  # Assumes daily seasonality for hourly data\n",
    "       # fold_strategy='timeseries',  # Use time series cross-validation\n",
    "        data_split_shuffle=True,\n",
    "        fold=3,  # Number of folds in time series cross-validation\n",
    "        #fh=24 * 14,  # Forecast horizon of 2 weeks (24 hours * 14 days)\n",
    "        numeric_features=numeric_features,\n",
    "        categorical_features=catgorical_features,\n",
    "        verbose=False  # Suppress output for clarity\n",
    "    )\n",
    "    \n",
    "    # Compare models and select the best one\n",
    "    best_model = compare_models()\n",
    "    \n",
    "    # Save the best model\n",
    "    save_model(best_model, f'best_model_{target}')\n",
    "\n",
    "    print(f\"Best model for {target} saved.\\n\")\n",
    "\n",
    "model = create_model(\"et\")\n"
   ]
  },
  {
   "cell_type": "code",
   "execution_count": null,
   "metadata": {},
   "outputs": [],
   "source": [
    "model = create_model(\"et\")"
   ]
  },
  {
   "cell_type": "code",
   "execution_count": null,
   "metadata": {},
   "outputs": [],
   "source": [
    "plot_model(model, plot = 'feature_all')"
   ]
  },
  {
   "cell_type": "code",
   "execution_count": null,
   "metadata": {},
   "outputs": [],
   "source": [
    "models()"
   ]
  },
  {
   "cell_type": "code",
   "execution_count": null,
   "metadata": {},
   "outputs": [],
   "source": [
    "pred_holdout = predict_model(model)\n",
    "pred_holdout"
   ]
  },
  {
   "cell_type": "code",
   "execution_count": null,
   "metadata": {},
   "outputs": [],
   "source": [
    "import plotly.express as px\n",
    "\n",
    "predictions_vs_real = pred_holdout[[\"traffic_abs\", \"prediction_label\"]].sort_index(ascending=True)\n",
    "px.line(predictions_vs_real)"
   ]
  },
  {
   "cell_type": "code",
   "execution_count": null,
   "metadata": {},
   "outputs": [],
   "source": [
    "print(f\"On average, {daily_prediction_comparison.traffic_abs.mean()} people are visiting the park daily.\")"
   ]
  },
  {
   "cell_type": "code",
   "execution_count": null,
   "metadata": {},
   "outputs": [],
   "source": [
    "daily_prediction_comparison = predictions_vs_real.resample(\"1d\").sum()\n",
    "daily_prediction_comparison[\"mae\"] = abs(daily_prediction_comparison[\"traffic_abs\"] - daily_prediction_comparison[\"prediction_label\"])\n",
    "\n",
    "print(f\"The MAE on a daily basis is {daily_prediction_comparison.mae.mean()}.\")\n",
    "px.line(daily_prediction_comparison[[\"traffic_abs\", \"prediction_label\"]])"
   ]
  },
  {
   "cell_type": "code",
   "execution_count": null,
   "metadata": {},
   "outputs": [],
   "source": [
    "px.box(daily_prediction_comparison[\"mae\"])"
   ]
  },
  {
   "cell_type": "code",
   "execution_count": null,
   "metadata": {},
   "outputs": [],
   "source": [
    "high_error_dates = daily_prediction_comparison[\"mae\"].sort_values(ascending=False).head(50)\n",
    "high_error_dates"
   ]
  },
  {
   "cell_type": "code",
   "execution_count": null,
   "metadata": {},
   "outputs": [],
   "source": [
    "X_train = get_config('X_train')\n",
    "X_train_columns = X_train.columns.to_list()\n",
    "X_train_columns"
   ]
  },
  {
   "cell_type": "code",
   "execution_count": null,
   "metadata": {},
   "outputs": [],
   "source": [
    "df"
   ]
  },
  {
   "cell_type": "code",
   "execution_count": null,
   "metadata": {},
   "outputs": [],
   "source": [
    "X_train"
   ]
  },
  {
   "cell_type": "code",
   "execution_count": null,
   "metadata": {},
   "outputs": [],
   "source": [
    "start_date = \"2024-08-30 00:00\"\n",
    "end_date = \"2024-09-07 23:00\"\n",
    "\n",
    "inference_index = pd.date_range(\n",
    "    start=pd.to_datetime(start_date),\n",
    "    end=pd.to_datetime(end_date),\n",
    "    freq=\"1h\"\n",
    ")\n",
    "\n",
    "inference_df = pd.DataFrame(\n",
    "    index=inference_index,\n",
    "    columns=X_train_columns\n",
    ")\n",
    "inference_df[\"Hour\"] = inference_df.index.hour\n",
    "inference_df\n",
    "\n"
   ]
  },
  {
   "cell_type": "code",
   "execution_count": null,
   "metadata": {},
   "outputs": [],
   "source": [
    "pred_unseen = predict_model(model, data = inference_df)"
   ]
  }
 ],
 "metadata": {
  "kernelspec": {
   "display_name": "bf_dssgx",
   "language": "python",
   "name": "bf_dssgx"
  },
  "language_info": {
   "codemirror_mode": {
    "name": "ipython",
    "version": 3
   },
   "file_extension": ".py",
   "mimetype": "text/x-python",
   "name": "python",
   "nbconvert_exporter": "python",
   "pygments_lexer": "ipython3",
   "version": "3.10.11"
  }
 },
 "nbformat": 4,
 "nbformat_minor": 2
}
