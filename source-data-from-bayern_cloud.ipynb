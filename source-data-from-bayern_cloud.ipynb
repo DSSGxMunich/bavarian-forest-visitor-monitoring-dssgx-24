{
 "cells": [
  {
   "cell_type": "code",
   "execution_count": 4,
   "metadata": {},
   "outputs": [],
   "source": [
    "import pandas as pd\n",
    "import requests\n",
    "import json\n",
    "import os"
   ]
  },
  {
   "cell_type": "markdown",
   "metadata": {},
   "source": [
    "# Authenticate with Bayern Cloud"
   ]
  },
  {
   "cell_type": "code",
   "execution_count": 5,
   "metadata": {},
   "outputs": [],
   "source": [
    "# Load Bayern Cloud API key from environment variables\n",
    "BAYERN_CLOUD_API_KEY = os.getenv('BAYERN_CLOUD_API_KEY')"
   ]
  },
  {
   "cell_type": "markdown",
   "metadata": {},
   "source": [
    "# Load occupancy data"
   ]
  },
  {
   "cell_type": "markdown",
   "metadata": {},
   "source": [
    "## Real-time occupancy data"
   ]
  },
  {
   "cell_type": "code",
   "execution_count": 6,
   "metadata": {},
   "outputs": [],
   "source": [
    "def load_and_save_occupancy_data_for_location(\n",
    "    location_slug: str,\n",
    "    save_file_path: str = 'outputs'\n",
    "):\n",
    "    API_endpoint = f'https://data.bayerncloud.digital/api/v4/endpoints/list_occupancy/{location_slug}'\n",
    "\n",
    "    request_params = {\n",
    "        'token': BAYERN_CLOUD_API_KEY\n",
    "    }\n",
    "\n",
    "    response = requests.get(API_endpoint, params=request_params)\n",
    "    response_json = response.json()\n",
    "\n",
    "    os.makedirs(save_file_path, exist_ok=True)\n",
    "\n",
    "    # Save response to JSON file\n",
    "    with open(f'{save_file_path}/occupancy_data_{location_slug}.json', 'w') as outfile:\n",
    "        json.dump(response_json, outfile)\n",
    "\n",
    "    return\n"
   ]
  },
  {
   "cell_type": "markdown",
   "metadata": {},
   "source": [
    "## Historical occupancy data"
   ]
  },
  {
   "cell_type": "code",
   "execution_count": 7,
   "metadata": {},
   "outputs": [],
   "source": [
    "def get_historical_occupancy_data_for_location(\n",
    "    location_id: str,\n",
    "    location_slug: str,\n",
    "    type:str,\n",
    "    save_file_path: str = 'outputs'\n",
    "):\n",
    "    API_endpoint = f'https://data.bayerncloud.digital/api/v4/things/{location_id}/dcls_occupancy'\n",
    "\n",
    "    request_params = {\n",
    "        'token': BAYERN_CLOUD_API_KEY\n",
    "    }\n",
    "\n",
    "    response = requests.get(API_endpoint, params=request_params)\n",
    "    response_json = response.json()\n",
    "\n",
    "    # Convert response to Pandas DataFrame and preprocess it\n",
    "    historical_occupancy_df = pd.DataFrame(response_json['data'], columns=['time', 'occupancy'])\n",
    "    historical_occupancy_df[\"time\"] = pd.to_datetime(historical_occupancy_df[\"time\"])\n",
    "    historical_occupancy_df.set_index(\"time\", inplace=True)\n",
    "\n",
    "    # Save DF as pickle file\n",
    "    os.makedirs(save_file_path, exist_ok=True)\n",
    "    historical_occupancy_df.to_csv(f'{os.path.join(save_file_path,type)}/occupancy_data_{location_slug}.csv')\n",
    "\n",
    "    return"
   ]
  },
  {
   "cell_type": "markdown",
   "metadata": {},
   "source": [
    "# Get visitor count data from counting sensors"
   ]
  },
  {
   "cell_type": "code",
   "execution_count": 24,
   "metadata": {},
   "outputs": [],
   "source": [
    "visitor_counters = {\n",
    "    \"tfg-lusen-1\": \"7453d98e-8ba7-4dfc-8054-a55c685c9e12\",\n",
    "    \"tfg-lusen-2\": \"11c69a64-8600-47d9-93a8-825e655d50f5\",\n",
    "    \"tfg-lusen-3\": \"0dce6a7a-e256-46b9-86cb-1189de9387c7\",\n",
    "    \"tfg-falkenstein-1\": \"6d666ec4-96e3-4506-ac08-b8953c98b569\",\n",
    "    \"tfg-falkenstein-2\": \"2105b493-02a8-4ae9-a6e4-bce6c866eca6\",\n",
    "}"
   ]
  },
  {
   "cell_type": "code",
   "execution_count": 25,
   "metadata": {},
   "outputs": [
    {
     "name": "stdout",
     "output_type": "stream",
     "text": [
      "Loading historical occupancy data for location: tfg-lusen-1 and location_id: 7453d98e-8ba7-4dfc-8054-a55c685c9e12\n",
      "Loading historical occupancy data for location: tfg-lusen-2 and location_id: 11c69a64-8600-47d9-93a8-825e655d50f5\n",
      "Loading historical occupancy data for location: tfg-lusen-3 and location_id: 0dce6a7a-e256-46b9-86cb-1189de9387c7\n",
      "Loading historical occupancy data for location: tfg-falkenstein-1 and location_id: 6d666ec4-96e3-4506-ac08-b8953c98b569\n",
      "Loading historical occupancy data for location: tfg-falkenstein-2 and location_id: 2105b493-02a8-4ae9-a6e4-bce6c866eca6\n"
     ]
    }
   ],
   "source": [
    "for item in visitor_counters.items():\n",
    "    # get the key and value\n",
    "    key, value = item\n",
    "    print(f\"Loading historical occupancy data for location: {key} and location_id: {value}\")\n",
    "    get_historical_occupancy_data_for_location(location_id=value, location_slug=key, type='counting_sensors')"
   ]
  },
  {
   "cell_type": "markdown",
   "metadata": {},
   "source": [
    "# Get visitor count data for parking spaces"
   ]
  },
  {
   "cell_type": "code",
   "execution_count": 8,
   "metadata": {},
   "outputs": [],
   "source": [
    "parking_sensors = {\n",
    "    \"pparkplatz-graupsaege-1\":\"e42069a6-702f-4ef4-b3b5-04e310d97ca0\",\n",
    "    \"parkplatz-fredenbruecke-1\":\"fac08b6b-e9cb-40cd-a106-b9f2cbfc7447\",\n",
    "    \"p-r-spiegelau-1\":\"ee0490b2-3cc5-4adb-a527-95267257598e\",\n",
    "    \"skiwanderzentrum-zwieslerwaldhaus-2\": \"dd3734c2-c4fb-4e1d-a57c-9bbed8130d8f\",\n",
    "    \"parkplatz-zwieslerwaldhaus-1\": \"6c9b765e-1ff9-401d-98bc-b0302ee65c62\",\n",
    "    \"parkplatz-zwieslerwaldhaus-nord-1\": \"4bbb3b5c-edc2-4b00-a923-91c1544aa29d\",\n",
    "    \"parkplatz-nationalparkzentrum-falkenstein-2\" : \"a93b64e9-35fb-4b3e-8348-81ba8f1c0d6f\",\n",
    "    \"scheidt-bachmann-parkplatz-1\" : \"144e1868-3051-4140-a83c-41d4b79a6d14\",\n",
    "    \"parkplatz-nationalparkzentrum-lusen-p2\" : \"454b0f50-130b-4c21-9db2-b163e158c847\",\n",
    "    \"parkplatz-waldhaeuser-kirche-1\" : \"454b0f50-130b-4c21-9db2-b163e158c847\",\n",
    "    \"parkplatz-waldhaeuser-ausblick-1\" : \"a14d8ebd-9261-49f7-875b-6a924fe34990\",\n",
    "    \"parkplatz-skisportzentrum-finsterau-1\": \"ea474092-1064-4ae7-955e-8db099955c16\"} "
   ]
  },
  {
   "cell_type": "code",
   "execution_count": 10,
   "metadata": {},
   "outputs": [
    {
     "name": "stdout",
     "output_type": "stream",
     "text": [
      "Loading historical occupancy data for location: pparkplatz-graupsaege-1 and location_id: e42069a6-702f-4ef4-b3b5-04e310d97ca0\n",
      "Loading historical occupancy data for location: parkplatz-fredenbruecke-1 and location_id: fac08b6b-e9cb-40cd-a106-b9f2cbfc7447\n",
      "Loading historical occupancy data for location: p-r-spiegelau-1 and location_id: ee0490b2-3cc5-4adb-a527-95267257598e\n",
      "Loading historical occupancy data for location: skiwanderzentrum-zwieslerwaldhaus-2 and location_id: dd3734c2-c4fb-4e1d-a57c-9bbed8130d8f\n",
      "Loading historical occupancy data for location: parkplatz-zwieslerwaldhaus-1 and location_id: 6c9b765e-1ff9-401d-98bc-b0302ee65c62\n",
      "Loading historical occupancy data for location: parkplatz-zwieslerwaldhaus-nord-1 and location_id: 4bbb3b5c-edc2-4b00-a923-91c1544aa29d\n",
      "Loading historical occupancy data for location: parkplatz-nationalparkzentrum-falkenstein-2 and location_id: a93b64e9-35fb-4b3e-8348-81ba8f1c0d6f\n",
      "Loading historical occupancy data for location: scheidt-bachmann-parkplatz-1 and location_id: 144e1868-3051-4140-a83c-41d4b79a6d14\n",
      "Loading historical occupancy data for location: parkplatz-nationalparkzentrum-lusen-p2 and location_id: 454b0f50-130b-4c21-9db2-b163e158c847\n",
      "Loading historical occupancy data for location: parkplatz-waldhaeuser-kirche-1 and location_id: 454b0f50-130b-4c21-9db2-b163e158c847\n",
      "Loading historical occupancy data for location: parkplatz-waldhaeuser-ausblick-1 and location_id: a14d8ebd-9261-49f7-875b-6a924fe34990\n",
      "Loading historical occupancy data for location: parkplatz-skisportzentrum-finsterau-1 and location_id: ea474092-1064-4ae7-955e-8db099955c16\n"
     ]
    }
   ],
   "source": [
    "for item in parking_sensors.items():\n",
    "    # get the key and value\n",
    "    key, value = item\n",
    "    print(f\"Loading historical occupancy data for location: {key} and location_id: {value}\")\n",
    "    get_historical_occupancy_data_for_location(location_id=value, location_slug=key, type='parking_spaces')"
   ]
  }
 ],
 "metadata": {
  "kernelspec": {
   "display_name": "bavarian-forest-data-sourcing",
   "language": "python",
   "name": "python3"
  },
  "language_info": {
   "codemirror_mode": {
    "name": "ipython",
    "version": 3
   },
   "file_extension": ".py",
   "mimetype": "text/x-python",
   "name": "python",
   "nbconvert_exporter": "python",
   "pygments_lexer": "ipython3",
   "version": "3.10.11"
  }
 },
 "nbformat": 4,
 "nbformat_minor": 2
}
