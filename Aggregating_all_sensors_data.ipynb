{
 "cells": [
  {
   "cell_type": "markdown",
   "metadata": {},
   "source": [
    "## 1. Import Necessary Libraries"
   ]
  },
  {
   "cell_type": "code",
   "execution_count": 1,
   "metadata": {},
   "outputs": [],
   "source": [
    "import pandas as pd\n",
    "from functools import reduce"
   ]
  },
  {
   "cell_type": "markdown",
   "metadata": {},
   "source": [
    "## 2. Load Datasets\n",
    "Specify the file paths to your CSV files and load them into DataFrames.\n"
   ]
  },
  {
   "cell_type": "code",
   "execution_count": 2,
   "metadata": {},
   "outputs": [],
   "source": [
    "# File paths (update these paths as necessary)\n",
    "manual_sensors_path = 'data\\cleaned_data\\cleaned_historic_sensors_data.csv'\n",
    "weather_data_path = 'data\\cleaned_data\\cleaned_weather_data.csv'\n",
    "\n",
    "# Load CSV files into DataFrames\n",
    "manual_sensors = pd.read_csv(manual_sensors_path)\n",
    "weather_data = pd.read_csv(weather_data_path)\n"
   ]
  },
  {
   "cell_type": "markdown",
   "metadata": {},
   "source": [
    "## 3. Data Preprocessing\n",
    "Ensure that the timestamp columns are in datetime format and set them as the index."
   ]
  },
  {
   "cell_type": "code",
   "execution_count": 11,
   "metadata": {},
   "outputs": [],
   "source": [
    "\n",
    "\n",
    "def prepare_data(df):\n",
    "    \"\"\"\n",
    "    Prepare DataFrame by ensuring the index is a DateTimeIndex, resampling to hourly frequency,\n",
    "    and handling missing values.\n",
    "    \n",
    "    Assumes that the DataFrame is already indexed by the 'Time' column.\n",
    "    \n",
    "    Parameters:\n",
    "    - df: DataFrame with 'Time' as the index.\n",
    "    \n",
    "    Returns:\n",
    "    - df: DataFrame resampled to hourly frequency with missing values handled.\n",
    "    \"\"\"\n",
    "    # Ensure the index is a DateTimeIndex\n",
    "    if not isinstance(df.index, pd.DatetimeIndex):\n",
    "        raise TypeError(\"Index must be a DateTimeIndex.\")\n",
    "\n",
    "    # Resample to hourly frequency and handle missing values\n",
    "    df = df.asfreq('H')  # Set frequency to hourly\n",
    "    df = df.ffill().bfill()  # Impute missing values using forward fill and backward fill\n",
    "    \n",
    "    return df\n",
    "\n",
    "# Example usage: Prepare each dataset\n",
    "manual_sensors = prepare_data(manual_sensors)\n",
    "weather_data = prepare_data(weather_data)\n"
   ]
  },
  {
   "cell_type": "markdown",
   "metadata": {},
   "source": [
    "## 4. Concatenate DataFrames\n",
    "Combine all datasets based on the timestamp index."
   ]
  },
  {
   "cell_type": "code",
   "execution_count": 15,
   "metadata": {},
   "outputs": [],
   "source": [
    "# List of DataFrames to concatenate\n",
    "data_frames = [manual_sensors, weather_data]\n",
    "\n",
    "# Concatenate DataFrames on the timestamp index\n",
    "merged_data = reduce(lambda left, right: pd.concat([left, right], axis=1, join='inner'), data_frames)\n",
    "\n",
    "# Optional: Handle any remaining missing values using ffill() and bfill()\n",
    "merged_data.ffill(inplace=True)  # Forward fill\n",
    "merged_data.bfill(inplace=True)  # Backward fill\n",
    "\n",
    "# Save the combined dataset to a new CSV\n",
    "merged_data.to_csv(r'data\\cleaned_data\\merged_sensor_data.csv')\n"
   ]
  },
  {
   "cell_type": "markdown",
   "metadata": {},
   "source": [
    "## 5. Review the Combined Data\n",
    "Check the first few rows of the merged DataFrame to ensure it looks correct."
   ]
  },
  {
   "cell_type": "code",
   "execution_count": 16,
   "metadata": {},
   "outputs": [
    {
     "data": {
      "text/html": [
       "<div>\n",
       "<style scoped>\n",
       "    .dataframe tbody tr th:only-of-type {\n",
       "        vertical-align: middle;\n",
       "    }\n",
       "\n",
       "    .dataframe tbody tr th {\n",
       "        vertical-align: top;\n",
       "    }\n",
       "\n",
       "    .dataframe thead th {\n",
       "        text-align: right;\n",
       "    }\n",
       "</style>\n",
       "<table border=\"1\" class=\"dataframe\">\n",
       "  <thead>\n",
       "    <tr style=\"text-align: right;\">\n",
       "      <th></th>\n",
       "      <th>target</th>\n",
       "      <th>Temperature (°C)</th>\n",
       "      <th>Relative Humidity (%)</th>\n",
       "      <th>Precipitation (mm)</th>\n",
       "      <th>Wind Speed (km/h)</th>\n",
       "      <th>Sunshine Duration (min)</th>\n",
       "    </tr>\n",
       "    <tr>\n",
       "      <th>Time</th>\n",
       "      <th></th>\n",
       "      <th></th>\n",
       "      <th></th>\n",
       "      <th></th>\n",
       "      <th></th>\n",
       "      <th></th>\n",
       "    </tr>\n",
       "  </thead>\n",
       "  <tbody>\n",
       "    <tr>\n",
       "      <th>2023-01-01 00:00:00</th>\n",
       "      <td>65.0</td>\n",
       "      <td>6.4</td>\n",
       "      <td>82.0</td>\n",
       "      <td>0.0</td>\n",
       "      <td>9.0</td>\n",
       "      <td>0.0</td>\n",
       "    </tr>\n",
       "    <tr>\n",
       "      <th>2023-01-01 01:00:00</th>\n",
       "      <td>104.0</td>\n",
       "      <td>6.0</td>\n",
       "      <td>84.0</td>\n",
       "      <td>0.0</td>\n",
       "      <td>8.3</td>\n",
       "      <td>0.0</td>\n",
       "    </tr>\n",
       "    <tr>\n",
       "      <th>2023-01-01 02:00:00</th>\n",
       "      <td>5.0</td>\n",
       "      <td>6.1</td>\n",
       "      <td>83.0</td>\n",
       "      <td>0.0</td>\n",
       "      <td>7.6</td>\n",
       "      <td>0.0</td>\n",
       "    </tr>\n",
       "    <tr>\n",
       "      <th>2023-01-01 03:00:00</th>\n",
       "      <td>0.0</td>\n",
       "      <td>6.6</td>\n",
       "      <td>83.0</td>\n",
       "      <td>0.0</td>\n",
       "      <td>7.9</td>\n",
       "      <td>0.0</td>\n",
       "    </tr>\n",
       "    <tr>\n",
       "      <th>2023-01-01 04:00:00</th>\n",
       "      <td>1.0</td>\n",
       "      <td>6.4</td>\n",
       "      <td>83.0</td>\n",
       "      <td>0.0</td>\n",
       "      <td>7.6</td>\n",
       "      <td>0.0</td>\n",
       "    </tr>\n",
       "  </tbody>\n",
       "</table>\n",
       "</div>"
      ],
      "text/plain": [
       "                     target  Temperature (°C)  Relative Humidity (%)  \\\n",
       "Time                                                                   \n",
       "2023-01-01 00:00:00    65.0               6.4                   82.0   \n",
       "2023-01-01 01:00:00   104.0               6.0                   84.0   \n",
       "2023-01-01 02:00:00     5.0               6.1                   83.0   \n",
       "2023-01-01 03:00:00     0.0               6.6                   83.0   \n",
       "2023-01-01 04:00:00     1.0               6.4                   83.0   \n",
       "\n",
       "                     Precipitation (mm)  Wind Speed (km/h)  \\\n",
       "Time                                                         \n",
       "2023-01-01 00:00:00                 0.0                9.0   \n",
       "2023-01-01 01:00:00                 0.0                8.3   \n",
       "2023-01-01 02:00:00                 0.0                7.6   \n",
       "2023-01-01 03:00:00                 0.0                7.9   \n",
       "2023-01-01 04:00:00                 0.0                7.6   \n",
       "\n",
       "                     Sunshine Duration (min)  \n",
       "Time                                          \n",
       "2023-01-01 00:00:00                      0.0  \n",
       "2023-01-01 01:00:00                      0.0  \n",
       "2023-01-01 02:00:00                      0.0  \n",
       "2023-01-01 03:00:00                      0.0  \n",
       "2023-01-01 04:00:00                      0.0  "
      ]
     },
     "execution_count": 16,
     "metadata": {},
     "output_type": "execute_result"
    }
   ],
   "source": [
    "# Display the first few rows of the merged dataset\n",
    "merged_data.head()\n"
   ]
  },
  {
   "cell_type": "markdown",
   "metadata": {},
   "source": [
    "### check for missing values in the aggregated dataset and duplicate timestamps in the index of dataset"
   ]
  },
  {
   "cell_type": "code",
   "execution_count": 17,
   "metadata": {},
   "outputs": [
    {
     "name": "stdout",
     "output_type": "stream",
     "text": [
      "Missing values per column:\n",
      "Series([], dtype: int64)\n",
      "\n",
      "No duplicate index values found.\n"
     ]
    }
   ],
   "source": [
    "\n",
    "\n",
    "# Check for missing values in the aggregated dataset\n",
    "missing_values = merged_data.isnull().sum()\n",
    "\n",
    "# Check if there are any rows with duplicate index values\n",
    "duplicate_index = merged_data.index.duplicated().sum()\n",
    "\n",
    "# Print the results\n",
    "print(\"Missing values per column:\")\n",
    "print(missing_values[missing_values > 0])  # Display columns with missing values\n",
    "\n",
    "if duplicate_index > 0:\n",
    "    print(f\"\\nThere are {duplicate_index} rows with duplicate index values.\")\n",
    "else:\n",
    "    print(\"\\nNo duplicate index values found.\")\n",
    "\n",
    "# Optional: Display the duplicate rows if any\n",
    "if duplicate_index > 0:\n",
    "    print(\"\\nDuplicate rows based on the index:\")\n",
    "    print(merged_data[merged_data.index.duplicated(keep=False)])\n"
   ]
  }
 ],
 "metadata": {
  "kernelspec": {
   "display_name": "bf_dssgx",
   "language": "python",
   "name": "python3"
  },
  "language_info": {
   "codemirror_mode": {
    "name": "ipython",
    "version": 3
   },
   "file_extension": ".py",
   "mimetype": "text/x-python",
   "name": "python",
   "nbconvert_exporter": "python",
   "pygments_lexer": "ipython3",
   "version": "3.10.11"
  }
 },
 "nbformat": 4,
 "nbformat_minor": 2
}
