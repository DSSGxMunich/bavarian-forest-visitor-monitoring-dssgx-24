{
 "cells": [
  {
   "cell_type": "code",
   "execution_count": 45,
   "metadata": {},
   "outputs": [],
   "source": [
    "import pandas as pd\n",
    "import locale\n",
    "import glob"
   ]
  },
  {
   "cell_type": "markdown",
   "metadata": {},
   "source": [
    "# Load data"
   ]
  },
  {
   "cell_type": "code",
   "execution_count": 37,
   "metadata": {},
   "outputs": [],
   "source": [
    "def load_visitor_counts_data(\n",
    "    data_folder: str,\n",
    "):\n",
    "\n",
    "    raw_visitor_counts = pd.concat([pd.read_csv(\n",
    "        file, \n",
    "        skiprows=2, \n",
    "        index_col=[\"Time\"]\n",
    "    ) for file in glob.glob(f\"{data_folder}/visitor_counts/*.csv\")])\n",
    "    \n",
    "    # Drop last empty column\n",
    "    visitor_counts = raw_visitor_counts.drop(columns=[\"Unnamed: 96\"])\n",
    "\n",
    "    return visitor_counts\n",
    "\n",
    "visitor_counts = load_visitor_counts_data(data_folder=\"data\")"
   ]
  },
  {
   "cell_type": "markdown",
   "metadata": {},
   "source": [
    "# Preprocess data"
   ]
  },
  {
   "cell_type": "code",
   "execution_count": 47,
   "metadata": {},
   "outputs": [],
   "source": [
    "def parse_datetime_index(\n",
    "        df: pd.DataFrame,\n",
    "    ) -> pd.DataFrame:\n",
    "    \"\"\"Parse the datetime index of the dataframe.\"\"\"\n",
    "\n",
    "    # Set the locale to German\n",
    "    locale.setlocale(locale.LC_TIME, 'de_DE.UTF-8')\n",
    "\n",
    "    return df.set_index(\n",
    "        pd.to_datetime(df.index, format=\"%d. %b. %Y %H:%M\", errors='coerce')\n",
    ")\n",
    "\n",
    "visitor_counts = parse_datetime_index(visitor_counts)\n"
   ]
  }
 ],
 "metadata": {
  "kernelspec": {
   "display_name": "bavarian-forest-data-sourcing",
   "language": "python",
   "name": "python3"
  },
  "language_info": {
   "codemirror_mode": {
    "name": "ipython",
    "version": 3
   },
   "file_extension": ".py",
   "mimetype": "text/x-python",
   "name": "python",
   "nbconvert_exporter": "python",
   "pygments_lexer": "ipython3",
   "version": "3.10.13"
  }
 },
 "nbformat": 4,
 "nbformat_minor": 2
}
