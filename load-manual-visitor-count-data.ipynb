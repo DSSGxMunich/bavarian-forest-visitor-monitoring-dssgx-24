{
 "cells": [
  {
   "cell_type": "code",
   "execution_count": 4,
   "metadata": {},
   "outputs": [],
   "source": [
    "import pandas as pd\n",
    "import locale\n",
    "import glob\n",
    "import chardet"
   ]
  },
  {
   "cell_type": "markdown",
   "metadata": {},
   "source": [
    "# Load data"
   ]
  },
  {
   "cell_type": "code",
   "execution_count": 5,
   "metadata": {},
   "outputs": [],
   "source": [
    "def read_data_per_file(file: str) -> pd.DataFrame:\n",
    "    \"\"\"\n",
    "    Reads data from a CSV file and returns it as a pandas DataFrame. Handles skipping rows\n",
    "\n",
    "    Args:\n",
    "        file (str): The path to the CSV file.\n",
    "\n",
    "    Returns:\n",
    "        pd.DataFrame: The DataFrame containing the data from the CSV file.\n",
    "    \"\"\"\n",
    "    # Detect the encoding\n",
    "    with open(file, 'rb') as f:\n",
    "        result = chardet.detect(f.read())\n",
    "        encoding = result['encoding']\n",
    "    data =  pd.read_csv(file, encoding=encoding, skiprows=2)\n",
    "        \n",
    "    return data"
   ]
  },
  {
   "cell_type": "code",
   "execution_count": 6,
   "metadata": {},
   "outputs": [],
   "source": [
    "def load_visitor_counts_data(\n",
    "    data_folder: str,\n",
    ") -> pd.DataFrame:\n",
    "    \"\"\"\n",
    "    Loads visitor counts data from multiple CSV files in the specified folder and deletes some unnecessary column.\n",
    "\n",
    "    Args:\n",
    "        data_folder (str): The path to the folder containing the CSV files.\n",
    "\n",
    "    Returns:\n",
    "        pd.DataFrame: The DataFrame containing the visitor counts data.\n",
    "    \"\"\"\n",
    "    # Read data from CSV files\n",
    "\n",
    "    raw_visitor_counts = pd.concat([read_data_per_file(\n",
    "        file\n",
    "    ) for file in glob.glob(f\"{data_folder}/*.csv\")])\n",
    "    \n",
    "    # Drop last empty column\n",
    "    visitor_counts = raw_visitor_counts.drop(columns=[\"Unnamed: 96\"])\n",
    "\n",
    "    return visitor_counts\n",
    "\n",
    "visitor_counts = load_visitor_counts_data(data_folder=\"data/visitor_counts\")"
   ]
  },
  {
   "cell_type": "markdown",
   "metadata": {},
   "source": [
    "# Preprocess data"
   ]
  },
  {
   "cell_type": "code",
   "execution_count": 7,
   "metadata": {},
   "outputs": [],
   "source": [
    "def parse_german_dates(\n",
    "    df: pd.DataFrame,\n",
    "    date_column_name: str\n",
    ") -> pd.DataFrame:\n",
    "    \"\"\"\n",
    "    Parses German dates in the specified date column of the DataFrame.\n",
    "\n",
    "    Args:\n",
    "        df (pd.DataFrame): The DataFrame containing the date column.\n",
    "        date_column_name (str): The name of the date column.\n",
    "\n",
    "    Returns:\n",
    "        pd.DataFrame: The DataFrame with parsed German dates.\n",
    "    \"\"\"\n",
    "    \n",
    "    # Set German locale\n",
    "    locale.setlocale(locale.LC_TIME, \"de_DE.UTF-8\")\n",
    "    \n",
    "    # Mapping of German month names to their English equivalents\n",
    "    month_map = {\n",
    "        \"Jan.\": \"Jan\",\n",
    "        \"Feb.\": \"Feb\",\n",
    "        \"März\": \"Mar\",\n",
    "        \"Apr.\": \"Apr\",\n",
    "        \"Mai\": \"May\",\n",
    "        \"Juni\": \"Jun\",\n",
    "        \"Juli\": \"Jul\",\n",
    "        \"Aug.\": \"Aug\",\n",
    "        \"Sep.\": \"Sep\",\n",
    "        \"Okt.\": \"Oct\",\n",
    "        \"Nov.\": \"Nov\",\n",
    "        \"Dez.\": \"Dec\"\n",
    "    }\n",
    "\n",
    "    # Replace German month names with English equivalents\n",
    "    for german, english in month_map.items():\n",
    "        df[date_column_name] = df[date_column_name].str.replace(german, english)\n",
    "\n",
    "    # Parse the dates\n",
    "    df[date_column_name] = pd.to_datetime(df[date_column_name], format=\"mixed\")\n",
    "\n",
    "    return df\n",
    "\n",
    "visitor_counts_parsed_dates = parse_german_dates(df=visitor_counts, date_column_name=\"Time\")"
   ]
  }
 ],
 "metadata": {
  "kernelspec": {
   "display_name": "test-venv-aisha-pr",
   "language": "python",
   "name": "python3"
  },
  "language_info": {
   "codemirror_mode": {
    "name": "ipython",
    "version": 3
   },
   "file_extension": ".py",
   "mimetype": "text/x-python",
   "name": "python",
   "nbconvert_exporter": "python",
   "pygments_lexer": "ipython3",
   "version": "3.10.11"
  }
 },
 "nbformat": 4,
 "nbformat_minor": 2
}
